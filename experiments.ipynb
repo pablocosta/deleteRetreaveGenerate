{
  "nbformat": 4,
  "nbformat_minor": 0,
  "metadata": {
    "colab": {
      "name": "experiments.ipynb",
      "provenance": [],
      "collapsed_sections": [],
      "authorship_tag": "ABX9TyM9tr2QPV1rxvih5CleUA6N",
      "include_colab_link": true
    },
    "kernelspec": {
      "name": "python3",
      "display_name": "Python 3"
    },
    "language_info": {
      "name": "python"
    }
  },
  "cells": [
    {
      "cell_type": "markdown",
      "metadata": {
        "id": "view-in-github",
        "colab_type": "text"
      },
      "source": [
        "<a href=\"https://colab.research.google.com/github/pablocosta/deleteRetreaveGenerate/blob/master/experiments.ipynb\" target=\"_parent\"><img src=\"https://colab.research.google.com/assets/colab-badge.svg\" alt=\"Open In Colab\"/></a>"
      ]
    },
    {
      "cell_type": "code",
      "metadata": {
        "colab": {
          "base_uri": "https://localhost:8080/"
        },
        "id": "xGBc0WrFAMGs",
        "outputId": "f14d4a18-0e98-4a88-c347-1eb4f8df77b3"
      },
      "source": [
        "!git clone https://github.com/pablocosta/deleteRetreaveGenerate\n",
        "%cd deleteRetreaveGenerate\n"
      ],
      "execution_count": 8,
      "outputs": [
        {
          "output_type": "stream",
          "text": [
            "fatal: destination path 'deleteRetreaveGenerate' already exists and is not an empty directory.\n",
            "/content/deleteRetreaveGenerate\n"
          ],
          "name": "stdout"
        }
      ]
    },
    {
      "cell_type": "code",
      "metadata": {
        "colab": {
          "base_uri": "https://localhost:8080/"
        },
        "id": "byqwAAOeA_zD",
        "outputId": "9dc92b73-6eb6-411a-b620-1a4a0cba3ba1"
      },
      "source": [
        ""
      ],
      "execution_count": 9,
      "outputs": [
        {
          "output_type": "stream",
          "text": [
            "data\t\t   inference.py  requirements.txt  tools     working_dir\n",
            "experiments.ipynb  README.md\t src\t\t   train.py  yelp_config.json\n"
          ],
          "name": "stdout"
        }
      ]
    }
  ]
}