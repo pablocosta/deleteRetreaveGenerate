{
  "nbformat": 4,
  "nbformat_minor": 0,
  "metadata": {
    "colab": {
      "name": "exploratoryAnalisys.ipynb",
      "provenance": [],
      "collapsed_sections": [],
      "toc_visible": true,
      "authorship_tag": "ABX9TyMXdQ1BcDBwJJWGMGbMF4L0",
      "include_colab_link": true
    },
    "kernelspec": {
      "name": "python3",
      "display_name": "Python 3"
    },
    "language_info": {
      "name": "python"
    }
  },
  "cells": [
    {
      "cell_type": "markdown",
      "metadata": {
        "id": "view-in-github",
        "colab_type": "text"
      },
      "source": [
        "<a href=\"https://colab.research.google.com/github/pablocosta/deleteRetreaveGenerate/blob/master/exploratoryAnalisys.ipynb\" target=\"_parent\"><img src=\"https://colab.research.google.com/assets/colab-badge.svg\" alt=\"Open In Colab\"/></a>"
      ]
    },
    {
      "cell_type": "markdown",
      "metadata": {
        "id": "-8jfFS47r6vQ"
      },
      "source": [
        "# Experimentos iniciais - Twitter"
      ]
    },
    {
      "cell_type": "code",
      "metadata": {
        "colab": {
          "base_uri": "https://localhost:8080/"
        },
        "id": "VFLQBUe3sJHL",
        "outputId": "9a062b09-0e91-44b3-8e1c-956d27457535"
      },
      "source": [
        "from google.colab import drive \n",
        "import pandas as pd\n",
        "\n",
        "#mount and read data\n",
        "\n",
        "drive.mount('/content/drive')\n",
        "df = pd.read_excel('/content/drive/MyDrive/sentimentTranslation/data/corpus.xlsx');\n",
        "\n",
        "\n",
        "\n",
        "\n"
      ],
      "execution_count": 1,
      "outputs": [
        {
          "output_type": "stream",
          "text": [
            "Mounted at /content/drive\n"
          ],
          "name": "stdout"
        }
      ]
    },
    {
      "cell_type": "code",
      "metadata": {
        "colab": {
          "base_uri": "https://localhost:8080/",
          "height": 424
        },
        "id": "V88iQ_ITxkNx",
        "outputId": "aa2e7424-7da3-4541-a81e-61e75b316eda"
      },
      "source": [
        "df"
      ],
      "execution_count": 7,
      "outputs": [
        {
          "output_type": "execute_result",
          "data": {
            "text/html": [
              "<div>\n",
              "<style scoped>\n",
              "    .dataframe tbody tr th:only-of-type {\n",
              "        vertical-align: middle;\n",
              "    }\n",
              "\n",
              "    .dataframe tbody tr th {\n",
              "        vertical-align: top;\n",
              "    }\n",
              "\n",
              "    .dataframe thead th {\n",
              "        text-align: right;\n",
              "    }\n",
              "</style>\n",
              "<table border=\"1\" class=\"dataframe\">\n",
              "  <thead>\n",
              "    <tr style=\"text-align: right;\">\n",
              "      <th></th>\n",
              "      <th>Text</th>\n",
              "      <th>Target</th>\n",
              "      <th>Polarity</th>\n",
              "      <th>Factual</th>\n",
              "      <th>User_ID</th>\n",
              "      <th>Tweet_ID</th>\n",
              "      <th>Tweet_Seq</th>\n",
              "      <th>POS</th>\n",
              "    </tr>\n",
              "  </thead>\n",
              "  <tbody>\n",
              "    <tr>\n",
              "      <th>0</th>\n",
              "      <td>fora fala mal do bolsonaro como vcs ganham a vida</td>\n",
              "      <td>bo</td>\n",
              "      <td>for</td>\n",
              "      <td>no</td>\n",
              "      <td>bo_1</td>\n",
              "      <td>_1045814448102002688</td>\n",
              "      <td>374</td>\n",
              "      <td>[('fora', 'ADV'), ('fala', 'V'), ('mal', 'ADV'...</td>\n",
              "    </tr>\n",
              "    <tr>\n",
              "      <th>1</th>\n",
              "      <td>Globo falando bem de Bolsonaro</td>\n",
              "      <td>bo</td>\n",
              "      <td>against</td>\n",
              "      <td>no</td>\n",
              "      <td>bo_1</td>\n",
              "      <td>_1056679350043590656</td>\n",
              "      <td>383</td>\n",
              "      <td>[('globo', 'N'), ('falando', 'V'), ('bem', 'PR...</td>\n",
              "    </tr>\n",
              "    <tr>\n",
              "      <th>2</th>\n",
              "      <td>Dilma tem 7x1, Bolsonaro não.reflitam</td>\n",
              "      <td>bo</td>\n",
              "      <td>against</td>\n",
              "      <td>no</td>\n",
              "      <td>bo_1</td>\n",
              "      <td>_1140324026541326337</td>\n",
              "      <td>737</td>\n",
              "      <td>[('dilma', 'N'), ('tem', 'V'), ('7x1', 'N'), (...</td>\n",
              "    </tr>\n",
              "    <tr>\n",
              "      <th>3</th>\n",
              "      <td>Cá Dilma no poder eu já tinha namorada agora c...</td>\n",
              "      <td>bo</td>\n",
              "      <td>against</td>\n",
              "      <td>no</td>\n",
              "      <td>bo_1</td>\n",
              "      <td>_1140511815664902144</td>\n",
              "      <td>752</td>\n",
              "      <td>[('cá', 'ADV'), ('dilma', 'ADV'), ('no', 'PREP...</td>\n",
              "    </tr>\n",
              "    <tr>\n",
              "      <th>4</th>\n",
              "      <td>gente comparando quem votou no babu com quem v...</td>\n",
              "      <td>bo</td>\n",
              "      <td>against</td>\n",
              "      <td>no</td>\n",
              "      <td>bo_2</td>\n",
              "      <td>_1254565268321427457</td>\n",
              "      <td>2760</td>\n",
              "      <td>[('gente', 'N'), ('comparando', 'V'), ('quem',...</td>\n",
              "    </tr>\n",
              "    <tr>\n",
              "      <th>...</th>\n",
              "      <td>...</td>\n",
              "      <td>...</td>\n",
              "      <td>...</td>\n",
              "      <td>...</td>\n",
              "      <td>...</td>\n",
              "      <td>...</td>\n",
              "      <td>...</td>\n",
              "      <td>...</td>\n",
              "    </tr>\n",
              "    <tr>\n",
              "      <th>9951</th>\n",
              "      <td>Datafolha: Bolsonaro se desgasta, mas não cai ...</td>\n",
              "      <td>bo</td>\n",
              "      <td>against</td>\n",
              "      <td>yes</td>\n",
              "      <td>bo_769</td>\n",
              "      <td>_1254968209343733760</td>\n",
              "      <td>4350</td>\n",
              "      <td>[('datafolha', 'N'), (':', 'PU'), ('bolsonaro'...</td>\n",
              "    </tr>\n",
              "    <tr>\n",
              "      <th>9952</th>\n",
              "      <td>Secom de Bolsonaro usa frase ligada ao nazismo...</td>\n",
              "      <td>bo</td>\n",
              "      <td>against</td>\n",
              "      <td>yes</td>\n",
              "      <td>bo_769</td>\n",
              "      <td>_1259688844661850114</td>\n",
              "      <td>4556</td>\n",
              "      <td>[('secom', 'N'), ('de', 'PREP'), ('bolsonaro',...</td>\n",
              "    </tr>\n",
              "    <tr>\n",
              "      <th>9953</th>\n",
              "      <td>Bolsonaro usa jurista de ultra-direita para am...</td>\n",
              "      <td>bo</td>\n",
              "      <td>against</td>\n",
              "      <td>yes</td>\n",
              "      <td>bo_769</td>\n",
              "      <td>_1266138669519421440</td>\n",
              "      <td>4881</td>\n",
              "      <td>[('bolsonaro', 'PROPESS'), ('usa', 'V'), ('jur...</td>\n",
              "    </tr>\n",
              "    <tr>\n",
              "      <th>9954</th>\n",
              "      <td>Indulto policial” vai criar encrenca jurídica ...</td>\n",
              "      <td>bo</td>\n",
              "      <td>against</td>\n",
              "      <td>no</td>\n",
              "      <td>bo_769</td>\n",
              "      <td>_1209306973436567552</td>\n",
              "      <td>874</td>\n",
              "      <td>[('“', 'PU'), ('indulto', 'N'), ('policial', '...</td>\n",
              "    </tr>\n",
              "    <tr>\n",
              "      <th>9955</th>\n",
              "      <td>A ausência de Bolsonaro em Davos é uma vitória...</td>\n",
              "      <td>bo</td>\n",
              "      <td>against</td>\n",
              "      <td>no</td>\n",
              "      <td>bo_769</td>\n",
              "      <td>_1214577517505470464</td>\n",
              "      <td>1296</td>\n",
              "      <td>[('a', 'ART'), ('ausência', 'N'), ('de', 'PREP...</td>\n",
              "    </tr>\n",
              "  </tbody>\n",
              "</table>\n",
              "<p>9956 rows × 8 columns</p>\n",
              "</div>"
            ],
            "text/plain": [
              "                                                   Text  ...                                                POS\n",
              "0     fora fala mal do bolsonaro como vcs ganham a vida  ...  [('fora', 'ADV'), ('fala', 'V'), ('mal', 'ADV'...\n",
              "1                        Globo falando bem de Bolsonaro  ...  [('globo', 'N'), ('falando', 'V'), ('bem', 'PR...\n",
              "2                 Dilma tem 7x1, Bolsonaro não.reflitam  ...  [('dilma', 'N'), ('tem', 'V'), ('7x1', 'N'), (...\n",
              "3     Cá Dilma no poder eu já tinha namorada agora c...  ...  [('cá', 'ADV'), ('dilma', 'ADV'), ('no', 'PREP...\n",
              "4     gente comparando quem votou no babu com quem v...  ...  [('gente', 'N'), ('comparando', 'V'), ('quem',...\n",
              "...                                                 ...  ...                                                ...\n",
              "9951  Datafolha: Bolsonaro se desgasta, mas não cai ...  ...  [('datafolha', 'N'), (':', 'PU'), ('bolsonaro'...\n",
              "9952  Secom de Bolsonaro usa frase ligada ao nazismo...  ...  [('secom', 'N'), ('de', 'PREP'), ('bolsonaro',...\n",
              "9953  Bolsonaro usa jurista de ultra-direita para am...  ...  [('bolsonaro', 'PROPESS'), ('usa', 'V'), ('jur...\n",
              "9954  Indulto policial” vai criar encrenca jurídica ...  ...  [('“', 'PU'), ('indulto', 'N'), ('policial', '...\n",
              "9955  A ausência de Bolsonaro em Davos é uma vitória...  ...  [('a', 'ART'), ('ausência', 'N'), ('de', 'PREP...\n",
              "\n",
              "[9956 rows x 8 columns]"
            ]
          },
          "metadata": {
            "tags": []
          },
          "execution_count": 7
        }
      ]
    },
    {
      "cell_type": "code",
      "metadata": {
        "colab": {
          "base_uri": "https://localhost:8080/"
        },
        "id": "R0Z21e7lxgD3",
        "outputId": "8d2e6518-ad5b-4a9b-b6a1-1995e58866c8"
      },
      "source": [
        "#count data\n",
        "\n",
        "df[\"Polarity\"].value_counts()\n",
        "\n"
      ],
      "execution_count": 6,
      "outputs": [
        {
          "output_type": "execute_result",
          "data": {
            "text/plain": [
              "against    5603\n",
              "for        4115\n",
              "other       238\n",
              "Name: Polarity, dtype: int64"
            ]
          },
          "metadata": {
            "tags": []
          },
          "execution_count": 6
        }
      ]
    },
    {
      "cell_type": "code",
      "metadata": {
        "id": "UgKuglZbxzzr"
      },
      "source": [
        "#clean data\n",
        "import re\n",
        "import string\n",
        "from nltk.tokenize import word_tokenize\n",
        "table = str.maketrans('', '', string.punctuation)\n",
        "\n",
        "def cleanData(x):\n",
        "  words = re.split(r'\\W+', x)  \n",
        "  stripped = [w.translate(table).lower() for w in words]\n",
        "  #tokens = word_tokenize(text, language=\"portuguese\")\n",
        "  # remove all tokens that are not alphabetic\n",
        "  #words = [word for word in tokens if word.isalpha()]\n",
        "\n",
        "  return \" \".join(stripped)\n",
        "\n",
        "df[\"Text\"] = df[\"Text\"].apply(lambda x: cleanData(x))"
      ],
      "execution_count": 17,
      "outputs": []
    },
    {
      "cell_type": "code",
      "metadata": {
        "id": "ZQ37JoRg0BSW"
      },
      "source": [
        "dfAgainst  = df[df[\"Polarity\"] == \"against\"]\n",
        "dfInfavor  = df[df[\"Polarity\"] == \"for\"]\n",
        "dfCombined = pd.concat([dfAgainst, dfInfavor])"
      ],
      "execution_count": 21,
      "outputs": []
    },
    {
      "cell_type": "code",
      "metadata": {
        "id": "D1iSe6Ln9xnw"
      },
      "source": [
        "\n",
        "#read data dataset and store\n",
        "allFile = open(r\"/content/drive/MyDrive/sentimentTranslation/data/corpus.txt\",\"w+\")\n",
        "\n",
        "for row in dfCombined.iterrows():\n",
        "\n",
        "  allFile.write(row[1][\"Text\"]+\"\\n\")\n",
        "  \n",
        "allFile.close()"
      ],
      "execution_count": 34,
      "outputs": []
    },
    {
      "cell_type": "code",
      "metadata": {
        "id": "QeEoZ9mipKPg"
      },
      "source": [
        "\n",
        "#read data dataset and store\n",
        "allFile = open(r\"/content/drive/MyDrive/sentimentTranslation/data/pos.txt\",\"w+\")\n",
        "\n",
        "for row in dfInfavor.iterrows():\n",
        "  allFile.write(row[1][\"Text\"]+\"\\n\")\n",
        "  \n",
        "allFile.close()"
      ],
      "execution_count": 36,
      "outputs": []
    },
    {
      "cell_type": "code",
      "metadata": {
        "id": "9VCA7NkCpKSP"
      },
      "source": [
        "\n",
        "#read data dataset and store\n",
        "allFile = open(r\"/content/drive/MyDrive/sentimentTranslation/data/neg.txt\",\"w+\")\n",
        "\n",
        "for row in dfAgainst.iterrows():\n",
        "  allFile.write(row[1][\"Text\"]+\"\\n\")\n",
        "  \n",
        "allFile.close()"
      ],
      "execution_count": 37,
      "outputs": []
    },
    {
      "cell_type": "code",
      "metadata": {
        "id": "fOmQ4yDlpKVY"
      },
      "source": [
        "#train/test split\n",
        "from sklearn.model_selection import train_test_split\n",
        "\n",
        "X_train, X_test, y_train, y_test = train_test_split(dfInfavor[\"Text\"], dfInfavor[\"Target\"], test_size=0.2)\n",
        "\n",
        "#read data dataset and store\n",
        "fileTrain = open(r\"/content/drive/MyDrive/sentimentTranslation/data/pos.train.txt\",\"w+\")\n",
        "fileTeste = open(r\"/content/drive/MyDrive/sentimentTranslation/data/pos.test.txt\",\"w+\")\n",
        "\n",
        "for xT, xTe, _, _ in zip(X_train, X_test, y_train, y_test):\n",
        "  fileTrain.write(xT+\"\\n\")\n",
        "  fileTeste.write(xTe+\"\\n\")\n",
        "  \n",
        "fileTrain.close()\n",
        "fileTeste.close()\n",
        "\n",
        "fileTrain = open(r\"/content/drive/MyDrive/sentimentTranslation/data/neg.train.txt\",\"w+\")\n",
        "fileTeste = open(r\"/content/drive/MyDrive/sentimentTranslation/data/neg.test.txt\",\"w+\")\n",
        "\n",
        "X_train, X_test, y_train, y_test = train_test_split(dfAgainst[\"Text\"], dfAgainst[\"Target\"], test_size=0.2)\n",
        "\n",
        "for xT, xTe, _, _  in zip(X_train, X_test, y_train, y_test):\n",
        "  fileTrain.write(xT+\"\\n\")\n",
        "  fileTeste.write(xTe+\"\\n\")\n",
        "\n",
        "fileTrain.close()\n",
        "fileTeste.close()\n"
      ],
      "execution_count": 39,
      "outputs": []
    }
  ]
}